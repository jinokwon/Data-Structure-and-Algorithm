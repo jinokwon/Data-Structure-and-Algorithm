{
  "nbformat": 4,
  "nbformat_minor": 0,
  "metadata": {
    "colab": {
      "name": "Python_Study",
      "provenance": [],
      "collapsed_sections": [],
      "include_colab_link": true
    },
    "kernelspec": {
      "name": "python3",
      "display_name": "Python 3"
    }
  },
  "cells": [
    {
      "cell_type": "markdown",
      "metadata": {
        "id": "view-in-github",
        "colab_type": "text"
      },
      "source": [
        "<a href=\"https://colab.research.google.com/github/jinokwon/Data-Structure-and-Algorithm/blob/master/Python_Study.ipynb\" target=\"_parent\"><img src=\"https://colab.research.google.com/assets/colab-badge.svg\" alt=\"Open In Colab\"/></a>"
      ]
    },
    {
      "cell_type": "markdown",
      "metadata": {
        "id": "8W78T07vTjSv",
        "colab_type": "text"
      },
      "source": [
        "### Data Type\n",
        "##### str = string, text\n",
        "##### float = real numbers\n",
        "##### int = integers\n",
        "##### bool = true / false\n",
        "---\n",
        "### List \n",
        "##### ==> can include all the above data types. also contain sub-lists\n",
        "##### ==> Index: [n] --> you can select 'n'th element\n",
        "##### ==> Slicing: [x:y] --> x is inclusive while y is NOT (exclusive)\n"
      ]
    },
    {
      "cell_type": "code",
      "metadata": {
        "id": "2e-SSnDfvpbH",
        "colab_type": "code",
        "colab": {
          "base_uri": "https://localhost:8080/",
          "height": 70
        },
        "outputId": "e542f352-07af-471c-e465-03565a228186"
      },
      "source": [
        "# Conditional Statements\n",
        "# Nested Decisions\n",
        "x=42\n",
        "if x > 1 :\n",
        "  print ('More than one')\n",
        "  if x < 100:\n",
        "    print ('Less than one')\n",
        "\n",
        "# Two-way Decisions with else\n",
        "x = 4\n",
        "if x > 2 :\n",
        "  print ('Bigger than 2')\n",
        "else:\n",
        "  print ('Smaller than 2')"
      ],
      "execution_count": null,
      "outputs": [
        {
          "output_type": "stream",
          "text": [
            "More than one\n",
            "Less than one\n",
            "Bigger than 2\n"
          ],
          "name": "stdout"
        }
      ]
    },
    {
      "cell_type": "code",
      "metadata": {
        "id": "aOEj9CXJcLI4",
        "colab_type": "code",
        "colab": {
          "base_uri": "https://localhost:8080/",
          "height": 70
        },
        "outputId": "96aa4b56-1d2d-4985-9d7e-45bd09420b11"
      },
      "source": [
        "# write a program that calculates your payments\n",
        "xh = input(\"Enter Hours: \")\n",
        "xr = input(\"Enter Rate: \")\n",
        "xp = float(xh) * float(xr)\n",
        "print (\"Pay \", xp)\n",
        "# if you run this cell, the program will ask you hours and rate"
      ],
      "execution_count": null,
      "outputs": [
        {
          "output_type": "stream",
          "text": [
            "Enter Hours: 35\n",
            "Enter Rate: 2.75\n",
            "Pay  96.25\n"
          ],
          "name": "stdout"
        }
      ]
    },
    {
      "cell_type": "code",
      "metadata": {
        "id": "xDTq9qg2bOuO",
        "colab_type": "code",
        "colab": {
          "base_uri": "https://localhost:8080/",
          "height": 72
        },
        "outputId": "9ebcf960-0093-4b36-e1b9-8c58cd2c1812"
      },
      "source": [
        "toppings = ['pepperoni', 'pineapple', 'cheese', 'sausage', 'olives', 'anchovies', 'mushrooms']\n",
        "prices = [2, 6, 1, 3, 2, 7, 2]\n",
        "\n",
        "# the length of a list\n",
        "num_pizzas = len(toppings)\n",
        "\n",
        "print ('We sell ' + str(num_pizzas) + ' different kinds of pizza!')\n",
        "\n",
        "# Use zip to combine the two lists into a list called pizzas that has the structure\n",
        "pizzas = list(zip(prices, toppings))\n",
        "print(pizzas)\n",
        "\n",
        "# You can sort a list from low to high by using .sort()\n",
        "pizzas.sort()\n",
        "\n",
        "cheapest_pizza = pizzas[0]\n",
        "priciest_pizza = pizzas[-1]\n",
        "three_cheapest = pizzas[:3]\n",
        "print (three_cheapest)\n",
        "\n",
        "# You can use .count to find the number of occurrences of a value in a list:\n",
        "num_two_dollar_slices = prices.count(2)\n",
        "\n",
        "\n",
        "# The function should add the last two elements of lst together and append the result to lst.\n",
        "# It should do this process three times and then return lst.\n",
        "def append_sum(lst):\n",
        "  i = 0\n",
        "  while i < 3:\n",
        "    lst.append(lst[-1] + lst[-2])\n",
        "    i += 1\n",
        "  return lst \n",
        "\n",
        "#Uncomment the line below when your function is done\n",
        "print(append_sum([1, 1, 2]))"
      ],
      "execution_count": null,
      "outputs": [
        {
          "output_type": "stream",
          "text": [
            "We sell 7 different kinds of pizza!\n",
            "[(2, 'pepperoni'), (6, 'pineapple'), (1, 'cheese'), (3, 'sausage'), (2, 'olives'), (7, 'anchovies'), (2, 'mushrooms')]\n",
            "[(1, 'cheese'), (2, 'mushrooms'), (2, 'olives')]\n"
          ],
          "name": "stdout"
        }
      ]
    },
    {
      "cell_type": "code",
      "metadata": {
        "id": "_5HmhZCP-L-u",
        "colab_type": "code",
        "colab": {}
      },
      "source": [
        "/*  sort() vs. sorted().\n",
        "After being passed to sorted(), the vegetables list remains unchanged.\n",
        "the sort() function is called on it, the list is updated.\n",
        "*/\n",
        "vegetables = ['squash', 'pea', 'carrot', 'potato']\n",
        "new_list = sorted(vegetables)\n",
        "# new_list = ['carrot', 'pea', 'potato', 'squash']\n",
        "print(new_list)\n",
        "\n",
        "# vegetables = ['squash', 'pea', 'carrot', 'potato']\n",
        "print(vegetables)\n",
        "\n",
        "vegetables.sort()\n",
        "# vegetables = ['carrot', 'pea', 'potato', 'squash']\n",
        "print(vegetables)"
      ],
      "execution_count": null,
      "outputs": []
    },
    {
      "cell_type": "code",
      "metadata": {
        "id": "8qc_x8pPmxVS",
        "colab_type": "code",
        "colab": {
          "base_uri": "https://localhost:8080/",
          "height": 52
        },
        "outputId": "d7a6f954-34f0-4faf-a590-41228a7e133f"
      },
      "source": [
        "# List (테크보이 워니)\n",
        "x = [4, 2, 3, 1]\n",
        "y = [\"hello\", \"there\"]\n",
        "# Find where a specific value is at\n",
        "print(x.index(3))\n",
        "# Check whether a certain value exists in a list\n",
        "print(\"hello\" in y)"
      ],
      "execution_count": 1,
      "outputs": [
        {
          "output_type": "stream",
          "text": [
            "2\n",
            "True\n"
          ],
          "name": "stdout"
        }
      ]
    },
    {
      "cell_type": "code",
      "metadata": {
        "id": "_nVRzgFtm4gb",
        "colab_type": "code",
        "colab": {}
      },
      "source": [
        "#%%\n",
        "# Tuple : 리스트와 다른점은, tuple은 안에 애들 못바꿈\n",
        "x = (1, 2, 3)\n",
        "y = ('a', 'b', 'c')\n",
        "z = (1, \"hello\", \"there\")\n",
        "\n",
        "print(x+y)\n",
        "# 다음 코드는 에러를 만듬\n",
        "# x[0] = 10\n"
      ],
      "execution_count": null,
      "outputs": []
    },
    {
      "cell_type": "code",
      "metadata": {
        "id": "LZ9c8p8LnAGC",
        "colab_type": "code",
        "colab": {}
      },
      "source": [
        "#%%\n",
        "# 딕셔너리\n",
        "x= {\n",
        "    0:\"진오\",\n",
        "    \"age\":30\n",
        "}\n",
        "print(x[0])\n",
        "print(x[\"age\"])\n",
        "print(x.keys())\n",
        "print(x.values())\n",
        "print(\"------------절취선----------\")\n",
        "for key in x:\n",
        "    print(\"키: \" + str(key))\n",
        "    print(\"벨류: \" + str(x[key]))\n",
        "print(\"------------절취선----------\")\n",
        "# 딕셔너리는 mutable하다.\n",
        "x[0] = \"jino\"\n",
        "# 새로운키 삽입도 가능\n",
        "x[\"school\"] = \"columbia\"\n",
        "print(x)\n"
      ],
      "execution_count": null,
      "outputs": []
    },
    {
      "cell_type": "code",
      "metadata": {
        "id": "5xPfFXurnCH4",
        "colab_type": "code",
        "colab": {}
      },
      "source": [
        "#%% \n",
        "# create a class (테크보이 워니)\n",
        "class Person:\n",
        "    def __init__(self, name, age):\n",
        "        self.name = name\n",
        "        self.age = age\n",
        "\n",
        "    def say_hello(self, to_name):\n",
        "        print(\"안녕 너는 \" + to_name + \"구나. 나는 \" + self.name)\n",
        "\n",
        "    def introduce(self):\n",
        "        print(\"안녕 나는 \" + self.name + \"야 나는 \" + str(self.age) + \"살이야.\")\n",
        "\n",
        "jino = Person(\"진오\", 31)\n",
        "jennie = Person(\"제니\", 30)\n",
        "jino.say_hello(\"워니\")\n",
        "jennie.introduce()\n",
        "\n",
        "# Inheritance (테크보이 워니)\n",
        "class Police(Person):\n",
        "    def arrest (self, to_arrest):\n",
        "        print (\"넌 체포됐다, \" + to_arrest)\n",
        "\n",
        "class Programmer(Person):\n",
        "    def program (self, to_program):\n",
        "        print (\"다음엔 뭘 만들지? 아 이걸 만들어야겠다: \" + to_program)\n",
        "\n",
        "jino = Person(\"진오\", 31)\n",
        "jennie = Police (\"제니\", 21)\n",
        "wonie = Programmer (\"워니\", 30)\n",
        "\n",
        "jennie.introduce()\n"
      ],
      "execution_count": null,
      "outputs": []
    },
    {
      "cell_type": "code",
      "metadata": {
        "id": "N52cGDodnFaD",
        "colab_type": "code",
        "colab": {}
      },
      "source": [
        "# %%\n",
        "def caesarCipherEncryptor(string, key):\n",
        "\t\n",
        "\tfor w in string:\n",
        "\t\tw = chr(ord(w)+key%26)\n",
        "\t\n",
        "\treturn \"\".join(string)\n",
        "\n",
        "print(caesarCipherEncryptor('cde', 3))\n",
        "print(chr(ord('e')+27%26))\n",
        "\n",
        "# %%\n",
        "board = [[' ',' ',' '] for i in range(3)]\n",
        "print(board)\n",
        "\n",
        "# %%\n",
        "car = {\n",
        "  \"brand\": \"Ford\",\n",
        "  \"model\": \"Mustang\",\n",
        "  \"year\": 1964\n",
        "}\n",
        "\n",
        "x = car.keys()\n",
        "x\n"
      ],
      "execution_count": null,
      "outputs": []
    },
    {
      "cell_type": "code",
      "metadata": {
        "id": "_GMDUKDErREt",
        "colab_type": "code",
        "colab": {
          "base_uri": "https://localhost:8080/",
          "height": 353
        },
        "outputId": "d6d34c7e-a12a-4b68-b698-63440855bd04"
      },
      "source": [
        "# .lower() returns the string with all lowercase characters.\n",
        "print('1. This SHOULD be ALL lowercase Letters'.lower())\n",
        "# .upper() returns the string with all uppercase characters.\n",
        "print('2. This SHOULD be ALL uppercase Letters'.upper())\n",
        "# .title() returns the string in title case, which means the first letter of each word is capitalized.\n",
        "print('3. This SHOULD be ALL titlecase Letters'.title())\n",
        "# .split(delimiter) is performed on a string, takes one argument, and returns a list of substrings found between the given argument.\n",
        "print('4. This SHOULD be ALL separated Letters'.split(' '))\n",
        "# \t\\n : Newline / \\t Horizontal Tab\n",
        "print('5. This SHOULD be ALL Letters \\n this is new line \\t horizontal tab')\n",
        "# 'delimiter'.join(list_you_want_to_join)\n",
        "print(','.join([this][will][be]))\n",
        "# .strip(). Stripping a string removes all whitespace characters from the beginning and end.\n",
        "\n",
        "# string_name.replace(character_being_replaced, new_character)\n",
        "\n",
        "# .find() takes a string as an argument and searching the string it was run on for that string\n",
        "\n",
        "# .format() takes variables as an argument and includes them in the string that it is run on.\n",
        "\n",
        "# \t\"My favorite song is {} by {}.\".format(song, artist)"
      ],
      "execution_count": 11,
      "outputs": [
        {
          "output_type": "stream",
          "text": [
            "1. this should be all lowercase letters\n",
            "2. THIS SHOULD BE ALL UPPERCASE LETTERS\n",
            "3. This Should Be All Titlecase Letters\n",
            "['4.', 'This', 'SHOULD', 'be', 'ALL', 'separated', 'Letters']\n",
            "5. This SHOULD be ALL Letters \n",
            " this is new line \t horizontal tab\n"
          ],
          "name": "stdout"
        },
        {
          "output_type": "error",
          "ename": "NameError",
          "evalue": "ignored",
          "traceback": [
            "\u001b[0;31m---------------------------------------------------------------------------\u001b[0m",
            "\u001b[0;31mNameError\u001b[0m                                 Traceback (most recent call last)",
            "\u001b[0;32m<ipython-input-11-8a71449f90e4>\u001b[0m in \u001b[0;36m<module>\u001b[0;34m()\u001b[0m\n\u001b[1;32m     10\u001b[0m \u001b[0mprint\u001b[0m\u001b[0;34m(\u001b[0m\u001b[0;34m'5. This SHOULD be ALL Letters \\n this is new line \\t horizontal tab'\u001b[0m\u001b[0;34m)\u001b[0m\u001b[0;34m\u001b[0m\u001b[0;34m\u001b[0m\u001b[0m\n\u001b[1;32m     11\u001b[0m \u001b[0;31m# 'delimiter'.join(list_you_want_to_join)\u001b[0m\u001b[0;34m\u001b[0m\u001b[0;34m\u001b[0m\u001b[0;34m\u001b[0m\u001b[0m\n\u001b[0;32m---> 12\u001b[0;31m \u001b[0mprint\u001b[0m\u001b[0;34m(\u001b[0m\u001b[0;34m','\u001b[0m\u001b[0;34m.\u001b[0m\u001b[0mjoin\u001b[0m\u001b[0;34m(\u001b[0m\u001b[0;34m[\u001b[0m\u001b[0mthis\u001b[0m\u001b[0;34m]\u001b[0m\u001b[0;34m[\u001b[0m\u001b[0mwill\u001b[0m\u001b[0;34m]\u001b[0m\u001b[0;34m[\u001b[0m\u001b[0mbe\u001b[0m\u001b[0;34m]\u001b[0m\u001b[0;34m)\u001b[0m\u001b[0;34m)\u001b[0m\u001b[0;34m\u001b[0m\u001b[0;34m\u001b[0m\u001b[0m\n\u001b[0m\u001b[1;32m     13\u001b[0m \u001b[0;31m# .strip(). Stripping a string removes all whitespace characters from the beginning and end.\u001b[0m\u001b[0;34m\u001b[0m\u001b[0;34m\u001b[0m\u001b[0;34m\u001b[0m\u001b[0m\n\u001b[1;32m     14\u001b[0m \u001b[0;34m\u001b[0m\u001b[0m\n",
            "\u001b[0;31mNameError\u001b[0m: name 'this' is not defined"
          ]
        }
      ]
    }
  ]
}