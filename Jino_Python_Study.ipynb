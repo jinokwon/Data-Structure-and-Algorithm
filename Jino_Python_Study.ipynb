{
  "nbformat": 4,
  "nbformat_minor": 0,
  "metadata": {
    "colab": {
      "name": "Jino_Python_Study",
      "provenance": [],
      "collapsed_sections": [],
      "toc_visible": true,
      "include_colab_link": true
    },
    "kernelspec": {
      "name": "python3",
      "display_name": "Python 3"
    }
  },
  "cells": [
    {
      "cell_type": "markdown",
      "metadata": {
        "id": "view-in-github",
        "colab_type": "text"
      },
      "source": [
        "<a href=\"https://colab.research.google.com/github/jinokwon/Data-Structure-and-Algorithm/blob/master/Jino_Python_Study.ipynb\" target=\"_parent\"><img src=\"https://colab.research.google.com/assets/colab-badge.svg\" alt=\"Open In Colab\"/></a>"
      ]
    },
    {
      "cell_type": "markdown",
      "metadata": {
        "id": "3LjCq1dqoK_O"
      },
      "source": [
        "# Generating a Random Number"
      ]
    },
    {
      "cell_type": "code",
      "metadata": {
        "id": "WjZnUSJLnK5S",
        "outputId": "1af63f58-89b2-41b1-9668-695616548e92",
        "colab": {
          "base_uri": "https://localhost:8080/"
        }
      },
      "source": [
        "# 성진형\n",
        "import numpy as np\n",
        "\n",
        "lst = []\n",
        "for i in range(1000):\n",
        "  lst.append(np.random.choice([i for i in range(1, 17)], size = 2))\n",
        "\n",
        "total_result = [ii for i in lst for ii in i]\n",
        "print(lst)\n",
        "print(total_result)"
      ],
      "execution_count": null,
      "outputs": [
        {
          "output_type": "stream",
          "text": [
            "[array([15,  1]), array([ 1, 15]), array([12, 11]), array([5, 8]), array([14,  8]), array([ 4, 15]), array([13, 12]), array([ 7, 14]), array([5, 4]), array([11,  8]), array([1, 4]), array([16,  6]), array([11, 10]), array([ 8, 13]), array([ 5, 12]), array([10,  2]), array([15,  3]), array([ 1, 12]), array([9, 1]), array([15, 14]), array([11,  2]), array([12,  8]), array([6, 9]), array([ 9, 13]), array([13,  7]), array([11, 16]), array([7, 2]), array([11,  4]), array([8, 2]), array([4, 4]), array([5, 9]), array([ 9, 13]), array([ 3, 13]), array([12,  1]), array([ 1, 12]), array([15, 15]), array([4, 8]), array([16, 13]), array([ 4, 14]), array([12, 16]), array([10,  2]), array([10, 14]), array([1, 5]), array([11,  2]), array([15, 16]), array([16, 12]), array([10, 13]), array([ 1, 13]), array([7, 2]), array([15, 16]), array([12,  1]), array([14,  4]), array([5, 9]), array([15, 12]), array([9, 6]), array([8, 3]), array([ 4, 10]), array([15, 11]), array([ 8, 11]), array([4, 4]), array([11, 16]), array([ 2, 11]), array([ 8, 10]), array([16,  5]), array([5, 7]), array([3, 6]), array([2, 8]), array([6, 5]), array([12,  2]), array([10,  9]), array([8, 1]), array([ 7, 15]), array([6, 5]), array([1, 8]), array([ 4, 10]), array([3, 1]), array([12, 11]), array([13,  3]), array([11, 13]), array([14, 12]), array([6, 6]), array([5, 1]), array([1, 3]), array([12,  2]), array([2, 6]), array([12,  3]), array([10, 10]), array([1, 5]), array([ 9, 15]), array([12, 13]), array([2, 8]), array([2, 7]), array([15,  9]), array([13,  4]), array([3, 9]), array([12, 14]), array([ 3, 15]), array([15, 15]), array([13,  1]), array([10, 10]), array([10, 16]), array([ 6, 12]), array([15, 12]), array([16, 11]), array([6, 6]), array([11, 11]), array([14, 15]), array([ 5, 10]), array([16,  2]), array([ 8, 14]), array([3, 1]), array([9, 2]), array([ 5, 15]), array([10,  9]), array([12, 11]), array([ 2, 10]), array([1, 9]), array([15,  2]), array([ 6, 13]), array([1, 2]), array([3, 6]), array([11,  2]), array([13,  5]), array([9, 3]), array([10,  3]), array([14, 11]), array([16, 14]), array([ 6, 14]), array([7, 9]), array([ 7, 10]), array([ 8, 10]), array([1, 3]), array([4, 9]), array([ 5, 14]), array([ 1, 10]), array([15,  2]), array([ 1, 10]), array([15,  7]), array([13,  7]), array([1, 8]), array([11, 10]), array([7, 8]), array([ 2, 12]), array([8, 8]), array([14,  5]), array([ 3, 13]), array([12,  4]), array([2, 8]), array([14, 11]), array([ 9, 11]), array([15, 15]), array([15,  7]), array([ 1, 13]), array([15, 12]), array([6, 5]), array([3, 4]), array([16,  5]), array([8, 6]), array([ 6, 11]), array([ 5, 11]), array([ 4, 13]), array([ 7, 11]), array([8, 2]), array([2, 9]), array([16,  2]), array([12, 15]), array([8, 8]), array([8, 9]), array([6, 8]), array([ 4, 11]), array([14, 12]), array([7, 8]), array([12,  8]), array([13, 14]), array([ 5, 15]), array([ 1, 12]), array([14, 16]), array([8, 5]), array([14,  3]), array([ 6, 15]), array([ 3, 16]), array([ 6, 13]), array([10, 12]), array([12,  4]), array([ 1, 14]), array([10, 14]), array([ 5, 13]), array([ 3, 12]), array([ 1, 10]), array([6, 8]), array([14,  7]), array([15, 10]), array([ 9, 11]), array([8, 2]), array([9, 3]), array([15, 12]), array([13, 13]), array([ 6, 13]), array([3, 9]), array([12,  1]), array([15, 10]), array([2, 8]), array([15, 14]), array([8, 9]), array([ 8, 15]), array([ 8, 12]), array([10, 11]), array([ 4, 16]), array([10, 15]), array([11,  7]), array([13,  9]), array([3, 3]), array([15, 16]), array([ 6, 11]), array([5, 9]), array([ 4, 13]), array([11, 10]), array([ 8, 16]), array([ 2, 13]), array([12, 14]), array([12,  2]), array([1, 3]), array([10,  2]), array([ 8, 13]), array([10,  3]), array([8, 3]), array([10, 13]), array([15,  2]), array([12, 12]), array([ 4, 15]), array([6, 7]), array([12,  4]), array([3, 8]), array([11, 10]), array([ 5, 13]), array([16,  9]), array([5, 8]), array([15, 16]), array([ 3, 13]), array([13,  3]), array([ 9, 11]), array([10,  1]), array([9, 6]), array([13, 11]), array([5, 6]), array([4, 9]), array([ 4, 11]), array([ 1, 10]), array([11, 13]), array([12,  4]), array([ 3, 14]), array([8, 1]), array([7, 9]), array([ 6, 16]), array([ 7, 15]), array([14, 10]), array([ 8, 10]), array([5, 6]), array([12, 10]), array([ 1, 10]), array([6, 2]), array([ 2, 16]), array([ 4, 14]), array([14,  5]), array([2, 1]), array([15, 12]), array([7, 7]), array([ 9, 15]), array([6, 8]), array([3, 5]), array([9, 4]), array([ 4, 14]), array([7, 2]), array([9, 5]), array([11, 16]), array([ 8, 10]), array([10, 12]), array([ 9, 12]), array([12,  5]), array([6, 1]), array([14, 14]), array([13, 14]), array([8, 2]), array([ 3, 10]), array([ 3, 11]), array([4, 6]), array([14, 16]), array([ 8, 12]), array([16, 15]), array([ 8, 14]), array([13,  9]), array([15,  7]), array([2, 9]), array([14,  2]), array([12,  1]), array([13,  6]), array([3, 2]), array([7, 1]), array([7, 9]), array([8, 6]), array([16,  6]), array([ 8, 14]), array([ 7, 15]), array([12,  2]), array([ 6, 12]), array([7, 5]), array([ 9, 13]), array([ 7, 12]), array([14,  1]), array([3, 1]), array([13, 11]), array([ 6, 15]), array([13, 14]), array([3, 8]), array([12,  9]), array([14, 15]), array([13, 10]), array([ 4, 11]), array([ 2, 10]), array([15,  8]), array([ 7, 14]), array([6, 6]), array([ 7, 11]), array([8, 8]), array([13,  8]), array([ 6, 16]), array([ 9, 11]), array([ 8, 15]), array([6, 7]), array([12,  9]), array([15,  5]), array([3, 5]), array([ 7, 12]), array([ 1, 12]), array([ 4, 12]), array([16,  8]), array([ 6, 15]), array([12,  1]), array([13, 12]), array([14, 16]), array([7, 7]), array([6, 1]), array([10,  2]), array([ 6, 16]), array([11,  8]), array([6, 6]), array([15,  1]), array([ 1, 13]), array([11,  2]), array([13,  2]), array([2, 9]), array([15, 12]), array([12,  2]), array([10,  2]), array([13,  8]), array([14, 15]), array([12, 16]), array([13,  5]), array([4, 8]), array([13,  2]), array([2, 1]), array([12, 11]), array([12, 16]), array([4, 1]), array([ 1, 13]), array([8, 6]), array([14,  4]), array([11,  5]), array([15,  4]), array([ 6, 10]), array([ 9, 10]), array([9, 4]), array([11, 14]), array([12, 14]), array([3, 2]), array([1, 9]), array([7, 7]), array([12, 14]), array([13, 14]), array([16, 16]), array([ 4, 12]), array([11,  1]), array([ 5, 11]), array([1, 4]), array([3, 9]), array([ 5, 15]), array([3, 2]), array([13, 14]), array([13, 12]), array([ 4, 15]), array([5, 1]), array([4, 8]), array([ 7, 12]), array([ 7, 14]), array([10,  5]), array([11, 14]), array([5, 5]), array([16, 16]), array([ 2, 12]), array([16,  1]), array([6, 3]), array([4, 2]), array([2, 1]), array([ 7, 13]), array([13,  9]), array([12, 13]), array([9, 7]), array([11,  1]), array([10,  4]), array([14,  7]), array([4, 7]), array([ 7, 15]), array([13,  8]), array([14,  4]), array([10,  5]), array([9, 8]), array([2, 5]), array([10, 13]), array([ 6, 16]), array([13, 15]), array([15,  5]), array([8, 8]), array([ 7, 13]), array([12,  3]), array([12, 13]), array([14, 16]), array([14, 15]), array([11,  8]), array([ 4, 16]), array([16, 16]), array([9, 7]), array([ 8, 13]), array([3, 6]), array([ 9, 11]), array([1, 1]), array([ 9, 14]), array([13, 13]), array([15, 10]), array([11, 10]), array([11, 10]), array([11, 12]), array([ 8, 11]), array([ 3, 13]), array([6, 8]), array([ 1, 14]), array([14, 13]), array([ 2, 14]), array([5, 8]), array([16,  5]), array([13,  7]), array([ 9, 10]), array([4, 9]), array([5, 6]), array([12,  9]), array([7, 2]), array([10, 12]), array([16, 12]), array([12, 14]), array([5, 9]), array([15, 16]), array([ 8, 13]), array([12,  2]), array([2, 9]), array([11, 12]), array([11,  6]), array([14,  5]), array([13,  4]), array([5, 2]), array([ 9, 11]), array([11,  9]), array([16, 12]), array([ 4, 16]), array([2, 9]), array([ 5, 16]), array([12, 12]), array([ 8, 12]), array([13,  9]), array([5, 1]), array([12, 12]), array([13,  7]), array([14, 10]), array([ 2, 14]), array([7, 1]), array([3, 6]), array([6, 7]), array([4, 6]), array([6, 8]), array([11, 13]), array([ 2, 10]), array([ 3, 10]), array([9, 2]), array([3, 1]), array([8, 5]), array([11,  6]), array([11,  8]), array([2, 4]), array([13,  4]), array([ 2, 10]), array([13,  9]), array([ 1, 12]), array([ 8, 16]), array([ 3, 12]), array([ 6, 14]), array([16,  8]), array([14, 12]), array([16,  5]), array([13,  6]), array([11,  8]), array([9, 7]), array([6, 9]), array([ 4, 14]), array([14,  2]), array([13,  9]), array([12, 11]), array([10, 11]), array([4, 7]), array([12,  4]), array([ 2, 15]), array([12, 16]), array([ 5, 11]), array([9, 9]), array([13, 12]), array([8, 9]), array([12,  6]), array([13,  1]), array([ 2, 15]), array([12, 15]), array([ 1, 12]), array([ 9, 12]), array([2, 2]), array([16,  5]), array([10, 16]), array([14,  4]), array([ 8, 13]), array([5, 1]), array([ 3, 10]), array([14,  6]), array([ 2, 16]), array([7, 5]), array([ 8, 14]), array([13,  9]), array([ 7, 11]), array([ 7, 15]), array([10,  4]), array([12, 14]), array([9, 1]), array([1, 6]), array([ 4, 11]), array([10,  7]), array([13,  1]), array([ 7, 14]), array([16, 15]), array([1, 8]), array([14, 15]), array([ 1, 10]), array([ 5, 13]), array([11, 11]), array([16,  8]), array([ 8, 12]), array([12, 15]), array([3, 9]), array([6, 3]), array([15, 14]), array([ 7, 15]), array([15,  1]), array([6, 7]), array([14, 15]), array([14, 11]), array([ 9, 14]), array([3, 7]), array([13, 14]), array([2, 3]), array([9, 5]), array([15,  5]), array([14,  4]), array([12, 13]), array([15,  5]), array([ 5, 13]), array([4, 8]), array([15, 12]), array([15,  6]), array([13, 11]), array([11,  9]), array([15,  3]), array([3, 8]), array([5, 4]), array([10,  1]), array([16,  1]), array([6, 9]), array([12,  6]), array([9, 8]), array([11, 15]), array([4, 1]), array([11,  2]), array([15, 16]), array([11,  3]), array([8, 4]), array([16,  6]), array([ 5, 16]), array([14,  3]), array([ 3, 13]), array([3, 6]), array([9, 4]), array([10,  7]), array([1, 1]), array([ 1, 12]), array([10,  6]), array([7, 8]), array([13,  6]), array([ 1, 12]), array([ 4, 15]), array([10,  9]), array([8, 2]), array([ 8, 16]), array([ 2, 16]), array([14,  5]), array([11, 12]), array([ 2, 13]), array([13,  5]), array([ 8, 10]), array([ 8, 16]), array([12,  4]), array([ 6, 15]), array([ 4, 10]), array([10,  2]), array([ 6, 13]), array([10,  6]), array([ 8, 13]), array([13, 10]), array([12,  7]), array([ 3, 12]), array([10, 14]), array([11, 12]), array([11,  6]), array([ 3, 14]), array([ 9, 14]), array([ 7, 13]), array([6, 3]), array([6, 5]), array([12, 15]), array([1, 9]), array([14, 13]), array([4, 2]), array([11, 14]), array([2, 9]), array([9, 2]), array([15, 13]), array([2, 2]), array([15,  1]), array([5, 2]), array([6, 9]), array([3, 6]), array([14,  8]), array([8, 8]), array([2, 7]), array([11,  2]), array([ 8, 13]), array([14,  3]), array([13, 15]), array([9, 4]), array([ 4, 13]), array([ 8, 16]), array([14, 13]), array([2, 2]), array([14,  9]), array([12,  6]), array([11, 11]), array([4, 5]), array([ 1, 11]), array([ 7, 12]), array([16, 10]), array([ 6, 11]), array([11, 11]), array([ 7, 13]), array([13,  6]), array([14, 14]), array([ 5, 10]), array([15, 16]), array([1, 7]), array([8, 1]), array([13, 14]), array([8, 6]), array([12, 13]), array([7, 9]), array([11,  7]), array([4, 3]), array([14, 14]), array([ 4, 11]), array([9, 6]), array([ 2, 13]), array([8, 6]), array([10,  5]), array([ 4, 11]), array([ 8, 11]), array([ 5, 14]), array([13, 11]), array([5, 6]), array([15,  3]), array([ 4, 15]), array([1, 5]), array([3, 9]), array([11,  2]), array([13,  2]), array([1, 5]), array([3, 6]), array([ 3, 13]), array([13,  7]), array([ 1, 12]), array([ 5, 13]), array([16, 13]), array([13, 12]), array([14,  9]), array([12, 11]), array([2, 4]), array([ 3, 14]), array([16, 16]), array([3, 1]), array([8, 5]), array([15,  8]), array([2, 1]), array([1, 4]), array([9, 3]), array([15,  3]), array([16, 10]), array([9, 1]), array([11,  5]), array([2, 8]), array([16,  5]), array([14, 15]), array([11,  1]), array([ 1, 11]), array([ 9, 11]), array([11,  8]), array([7, 2]), array([6, 4]), array([6, 6]), array([11, 15]), array([15,  6]), array([6, 3]), array([ 1, 15]), array([5, 5]), array([16,  4]), array([ 3, 11]), array([11,  7]), array([4, 4]), array([4, 8]), array([14, 16]), array([5, 1]), array([7, 5]), array([10,  7]), array([ 8, 15]), array([11, 14]), array([14, 15]), array([14,  9]), array([ 4, 10]), array([3, 9]), array([ 1, 16]), array([ 1, 12]), array([ 4, 16]), array([15, 13]), array([9, 5]), array([10,  1]), array([ 8, 16]), array([13,  7]), array([ 3, 15]), array([6, 4]), array([ 3, 15]), array([10, 10]), array([10, 14]), array([16,  7]), array([10, 10]), array([ 5, 11]), array([16, 12]), array([ 4, 12]), array([ 7, 16]), array([11,  3]), array([1, 9]), array([2, 7]), array([ 4, 12]), array([ 4, 11]), array([8, 5]), array([6, 4]), array([10,  7]), array([13,  7]), array([ 7, 13]), array([10,  4]), array([ 7, 10]), array([13,  2]), array([8, 9]), array([8, 8]), array([9, 9]), array([ 6, 11]), array([5, 5]), array([16, 11]), array([10, 14]), array([9, 7]), array([1, 1]), array([6, 5]), array([9, 2]), array([2, 3]), array([4, 4]), array([11,  2]), array([4, 9]), array([6, 3]), array([15, 12]), array([ 2, 14]), array([ 2, 12]), array([ 3, 10]), array([11, 10]), array([ 9, 13]), array([10,  2]), array([ 6, 16]), array([15,  4]), array([16,  5]), array([6, 7]), array([9, 4]), array([ 2, 16]), array([4, 7]), array([ 7, 11]), array([ 2, 13]), array([3, 9]), array([10,  7]), array([ 7, 16]), array([1, 9]), array([ 1, 16]), array([ 5, 14]), array([ 5, 10]), array([13, 13]), array([9, 2]), array([2, 7]), array([1, 1]), array([6, 9]), array([ 6, 13]), array([16,  3]), array([9, 5]), array([3, 6]), array([14,  6]), array([11, 16]), array([14,  8]), array([ 9, 12]), array([4, 6]), array([ 2, 11]), array([1, 1]), array([10,  1]), array([11,  4]), array([16,  2]), array([9, 8]), array([8, 2]), array([7, 3]), array([ 3, 15]), array([5, 8]), array([15, 16]), array([4, 2]), array([6, 4]), array([8, 4]), array([6, 2]), array([ 4, 10]), array([ 1, 15]), array([8, 6]), array([10,  1]), array([11, 14]), array([ 5, 13]), array([16, 13]), array([ 9, 14]), array([7, 6]), array([14,  5]), array([ 2, 13]), array([11, 10]), array([14,  9]), array([ 7, 12]), array([3, 7]), array([ 7, 10]), array([14,  2]), array([2, 6]), array([ 9, 15]), array([10,  8]), array([14, 16]), array([5, 7]), array([2, 5]), array([9, 8]), array([ 9, 11]), array([16, 16]), array([13, 14]), array([13,  7]), array([15,  5]), array([13, 12]), array([8, 2]), array([6, 4]), array([13,  6]), array([16, 14]), array([10, 15]), array([ 4, 15]), array([5, 1]), array([15,  1]), array([2, 7]), array([2, 6]), array([ 2, 13]), array([3, 7]), array([ 1, 12]), array([ 5, 15]), array([5, 7]), array([4, 5]), array([4, 6]), array([16, 10]), array([7, 2]), array([5, 2]), array([14,  3]), array([14, 15]), array([6, 9]), array([9, 7]), array([15,  8]), array([ 3, 11]), array([14,  8]), array([10,  9]), array([11, 14]), array([13, 11]), array([15,  9]), array([7, 4]), array([16, 15]), array([6, 8]), array([ 2, 13]), array([ 6, 10]), array([15,  2]), array([13,  5]), array([ 9, 15]), array([14,  8]), array([10,  6]), array([5, 6]), array([ 9, 14]), array([15, 12]), array([15, 12]), array([3, 4]), array([13, 16]), array([15, 12]), array([11, 16]), array([ 4, 14]), array([7, 4]), array([15,  5]), array([16,  9]), array([ 8, 13]), array([ 8, 15]), array([16,  2]), array([ 5, 16]), array([ 9, 10]), array([11,  7]), array([ 3, 14]), array([11, 11]), array([15,  3]), array([12, 16]), array([10, 11]), array([ 6, 15]), array([10,  9]), array([ 1, 13]), array([3, 4]), array([15, 10]), array([ 2, 13]), array([14, 12]), array([10, 14]), array([4, 4]), array([14,  3]), array([15, 14]), array([12, 15]), array([13,  5]), array([ 2, 16]), array([ 6, 13]), array([ 5, 11]), array([8, 3]), array([4, 6]), array([7, 2]), array([15, 13]), array([11, 15]), array([ 2, 12]), array([15,  4]), array([1, 8]), array([13, 16]), array([ 1, 10]), array([4, 7]), array([16,  5]), array([7, 7]), array([7, 1]), array([1, 1]), array([10, 16]), array([6, 7]), array([9, 9]), array([12,  2]), array([10,  4]), array([6, 7]), array([14,  8]), array([ 7, 11]), array([10,  7]), array([12, 13]), array([3, 2]), array([6, 2]), array([ 5, 15]), array([ 2, 15]), array([5, 4]), array([10,  9]), array([9, 5]), array([7, 6]), array([1, 9])]\n",
            "[15, 1, 1, 15, 12, 11, 5, 8, 14, 8, 4, 15, 13, 12, 7, 14, 5, 4, 11, 8, 1, 4, 16, 6, 11, 10, 8, 13, 5, 12, 10, 2, 15, 3, 1, 12, 9, 1, 15, 14, 11, 2, 12, 8, 6, 9, 9, 13, 13, 7, 11, 16, 7, 2, 11, 4, 8, 2, 4, 4, 5, 9, 9, 13, 3, 13, 12, 1, 1, 12, 15, 15, 4, 8, 16, 13, 4, 14, 12, 16, 10, 2, 10, 14, 1, 5, 11, 2, 15, 16, 16, 12, 10, 13, 1, 13, 7, 2, 15, 16, 12, 1, 14, 4, 5, 9, 15, 12, 9, 6, 8, 3, 4, 10, 15, 11, 8, 11, 4, 4, 11, 16, 2, 11, 8, 10, 16, 5, 5, 7, 3, 6, 2, 8, 6, 5, 12, 2, 10, 9, 8, 1, 7, 15, 6, 5, 1, 8, 4, 10, 3, 1, 12, 11, 13, 3, 11, 13, 14, 12, 6, 6, 5, 1, 1, 3, 12, 2, 2, 6, 12, 3, 10, 10, 1, 5, 9, 15, 12, 13, 2, 8, 2, 7, 15, 9, 13, 4, 3, 9, 12, 14, 3, 15, 15, 15, 13, 1, 10, 10, 10, 16, 6, 12, 15, 12, 16, 11, 6, 6, 11, 11, 14, 15, 5, 10, 16, 2, 8, 14, 3, 1, 9, 2, 5, 15, 10, 9, 12, 11, 2, 10, 1, 9, 15, 2, 6, 13, 1, 2, 3, 6, 11, 2, 13, 5, 9, 3, 10, 3, 14, 11, 16, 14, 6, 14, 7, 9, 7, 10, 8, 10, 1, 3, 4, 9, 5, 14, 1, 10, 15, 2, 1, 10, 15, 7, 13, 7, 1, 8, 11, 10, 7, 8, 2, 12, 8, 8, 14, 5, 3, 13, 12, 4, 2, 8, 14, 11, 9, 11, 15, 15, 15, 7, 1, 13, 15, 12, 6, 5, 3, 4, 16, 5, 8, 6, 6, 11, 5, 11, 4, 13, 7, 11, 8, 2, 2, 9, 16, 2, 12, 15, 8, 8, 8, 9, 6, 8, 4, 11, 14, 12, 7, 8, 12, 8, 13, 14, 5, 15, 1, 12, 14, 16, 8, 5, 14, 3, 6, 15, 3, 16, 6, 13, 10, 12, 12, 4, 1, 14, 10, 14, 5, 13, 3, 12, 1, 10, 6, 8, 14, 7, 15, 10, 9, 11, 8, 2, 9, 3, 15, 12, 13, 13, 6, 13, 3, 9, 12, 1, 15, 10, 2, 8, 15, 14, 8, 9, 8, 15, 8, 12, 10, 11, 4, 16, 10, 15, 11, 7, 13, 9, 3, 3, 15, 16, 6, 11, 5, 9, 4, 13, 11, 10, 8, 16, 2, 13, 12, 14, 12, 2, 1, 3, 10, 2, 8, 13, 10, 3, 8, 3, 10, 13, 15, 2, 12, 12, 4, 15, 6, 7, 12, 4, 3, 8, 11, 10, 5, 13, 16, 9, 5, 8, 15, 16, 3, 13, 13, 3, 9, 11, 10, 1, 9, 6, 13, 11, 5, 6, 4, 9, 4, 11, 1, 10, 11, 13, 12, 4, 3, 14, 8, 1, 7, 9, 6, 16, 7, 15, 14, 10, 8, 10, 5, 6, 12, 10, 1, 10, 6, 2, 2, 16, 4, 14, 14, 5, 2, 1, 15, 12, 7, 7, 9, 15, 6, 8, 3, 5, 9, 4, 4, 14, 7, 2, 9, 5, 11, 16, 8, 10, 10, 12, 9, 12, 12, 5, 6, 1, 14, 14, 13, 14, 8, 2, 3, 10, 3, 11, 4, 6, 14, 16, 8, 12, 16, 15, 8, 14, 13, 9, 15, 7, 2, 9, 14, 2, 12, 1, 13, 6, 3, 2, 7, 1, 7, 9, 8, 6, 16, 6, 8, 14, 7, 15, 12, 2, 6, 12, 7, 5, 9, 13, 7, 12, 14, 1, 3, 1, 13, 11, 6, 15, 13, 14, 3, 8, 12, 9, 14, 15, 13, 10, 4, 11, 2, 10, 15, 8, 7, 14, 6, 6, 7, 11, 8, 8, 13, 8, 6, 16, 9, 11, 8, 15, 6, 7, 12, 9, 15, 5, 3, 5, 7, 12, 1, 12, 4, 12, 16, 8, 6, 15, 12, 1, 13, 12, 14, 16, 7, 7, 6, 1, 10, 2, 6, 16, 11, 8, 6, 6, 15, 1, 1, 13, 11, 2, 13, 2, 2, 9, 15, 12, 12, 2, 10, 2, 13, 8, 14, 15, 12, 16, 13, 5, 4, 8, 13, 2, 2, 1, 12, 11, 12, 16, 4, 1, 1, 13, 8, 6, 14, 4, 11, 5, 15, 4, 6, 10, 9, 10, 9, 4, 11, 14, 12, 14, 3, 2, 1, 9, 7, 7, 12, 14, 13, 14, 16, 16, 4, 12, 11, 1, 5, 11, 1, 4, 3, 9, 5, 15, 3, 2, 13, 14, 13, 12, 4, 15, 5, 1, 4, 8, 7, 12, 7, 14, 10, 5, 11, 14, 5, 5, 16, 16, 2, 12, 16, 1, 6, 3, 4, 2, 2, 1, 7, 13, 13, 9, 12, 13, 9, 7, 11, 1, 10, 4, 14, 7, 4, 7, 7, 15, 13, 8, 14, 4, 10, 5, 9, 8, 2, 5, 10, 13, 6, 16, 13, 15, 15, 5, 8, 8, 7, 13, 12, 3, 12, 13, 14, 16, 14, 15, 11, 8, 4, 16, 16, 16, 9, 7, 8, 13, 3, 6, 9, 11, 1, 1, 9, 14, 13, 13, 15, 10, 11, 10, 11, 10, 11, 12, 8, 11, 3, 13, 6, 8, 1, 14, 14, 13, 2, 14, 5, 8, 16, 5, 13, 7, 9, 10, 4, 9, 5, 6, 12, 9, 7, 2, 10, 12, 16, 12, 12, 14, 5, 9, 15, 16, 8, 13, 12, 2, 2, 9, 11, 12, 11, 6, 14, 5, 13, 4, 5, 2, 9, 11, 11, 9, 16, 12, 4, 16, 2, 9, 5, 16, 12, 12, 8, 12, 13, 9, 5, 1, 12, 12, 13, 7, 14, 10, 2, 14, 7, 1, 3, 6, 6, 7, 4, 6, 6, 8, 11, 13, 2, 10, 3, 10, 9, 2, 3, 1, 8, 5, 11, 6, 11, 8, 2, 4, 13, 4, 2, 10, 13, 9, 1, 12, 8, 16, 3, 12, 6, 14, 16, 8, 14, 12, 16, 5, 13, 6, 11, 8, 9, 7, 6, 9, 4, 14, 14, 2, 13, 9, 12, 11, 10, 11, 4, 7, 12, 4, 2, 15, 12, 16, 5, 11, 9, 9, 13, 12, 8, 9, 12, 6, 13, 1, 2, 15, 12, 15, 1, 12, 9, 12, 2, 2, 16, 5, 10, 16, 14, 4, 8, 13, 5, 1, 3, 10, 14, 6, 2, 16, 7, 5, 8, 14, 13, 9, 7, 11, 7, 15, 10, 4, 12, 14, 9, 1, 1, 6, 4, 11, 10, 7, 13, 1, 7, 14, 16, 15, 1, 8, 14, 15, 1, 10, 5, 13, 11, 11, 16, 8, 8, 12, 12, 15, 3, 9, 6, 3, 15, 14, 7, 15, 15, 1, 6, 7, 14, 15, 14, 11, 9, 14, 3, 7, 13, 14, 2, 3, 9, 5, 15, 5, 14, 4, 12, 13, 15, 5, 5, 13, 4, 8, 15, 12, 15, 6, 13, 11, 11, 9, 15, 3, 3, 8, 5, 4, 10, 1, 16, 1, 6, 9, 12, 6, 9, 8, 11, 15, 4, 1, 11, 2, 15, 16, 11, 3, 8, 4, 16, 6, 5, 16, 14, 3, 3, 13, 3, 6, 9, 4, 10, 7, 1, 1, 1, 12, 10, 6, 7, 8, 13, 6, 1, 12, 4, 15, 10, 9, 8, 2, 8, 16, 2, 16, 14, 5, 11, 12, 2, 13, 13, 5, 8, 10, 8, 16, 12, 4, 6, 15, 4, 10, 10, 2, 6, 13, 10, 6, 8, 13, 13, 10, 12, 7, 3, 12, 10, 14, 11, 12, 11, 6, 3, 14, 9, 14, 7, 13, 6, 3, 6, 5, 12, 15, 1, 9, 14, 13, 4, 2, 11, 14, 2, 9, 9, 2, 15, 13, 2, 2, 15, 1, 5, 2, 6, 9, 3, 6, 14, 8, 8, 8, 2, 7, 11, 2, 8, 13, 14, 3, 13, 15, 9, 4, 4, 13, 8, 16, 14, 13, 2, 2, 14, 9, 12, 6, 11, 11, 4, 5, 1, 11, 7, 12, 16, 10, 6, 11, 11, 11, 7, 13, 13, 6, 14, 14, 5, 10, 15, 16, 1, 7, 8, 1, 13, 14, 8, 6, 12, 13, 7, 9, 11, 7, 4, 3, 14, 14, 4, 11, 9, 6, 2, 13, 8, 6, 10, 5, 4, 11, 8, 11, 5, 14, 13, 11, 5, 6, 15, 3, 4, 15, 1, 5, 3, 9, 11, 2, 13, 2, 1, 5, 3, 6, 3, 13, 13, 7, 1, 12, 5, 13, 16, 13, 13, 12, 14, 9, 12, 11, 2, 4, 3, 14, 16, 16, 3, 1, 8, 5, 15, 8, 2, 1, 1, 4, 9, 3, 15, 3, 16, 10, 9, 1, 11, 5, 2, 8, 16, 5, 14, 15, 11, 1, 1, 11, 9, 11, 11, 8, 7, 2, 6, 4, 6, 6, 11, 15, 15, 6, 6, 3, 1, 15, 5, 5, 16, 4, 3, 11, 11, 7, 4, 4, 4, 8, 14, 16, 5, 1, 7, 5, 10, 7, 8, 15, 11, 14, 14, 15, 14, 9, 4, 10, 3, 9, 1, 16, 1, 12, 4, 16, 15, 13, 9, 5, 10, 1, 8, 16, 13, 7, 3, 15, 6, 4, 3, 15, 10, 10, 10, 14, 16, 7, 10, 10, 5, 11, 16, 12, 4, 12, 7, 16, 11, 3, 1, 9, 2, 7, 4, 12, 4, 11, 8, 5, 6, 4, 10, 7, 13, 7, 7, 13, 10, 4, 7, 10, 13, 2, 8, 9, 8, 8, 9, 9, 6, 11, 5, 5, 16, 11, 10, 14, 9, 7, 1, 1, 6, 5, 9, 2, 2, 3, 4, 4, 11, 2, 4, 9, 6, 3, 15, 12, 2, 14, 2, 12, 3, 10, 11, 10, 9, 13, 10, 2, 6, 16, 15, 4, 16, 5, 6, 7, 9, 4, 2, 16, 4, 7, 7, 11, 2, 13, 3, 9, 10, 7, 7, 16, 1, 9, 1, 16, 5, 14, 5, 10, 13, 13, 9, 2, 2, 7, 1, 1, 6, 9, 6, 13, 16, 3, 9, 5, 3, 6, 14, 6, 11, 16, 14, 8, 9, 12, 4, 6, 2, 11, 1, 1, 10, 1, 11, 4, 16, 2, 9, 8, 8, 2, 7, 3, 3, 15, 5, 8, 15, 16, 4, 2, 6, 4, 8, 4, 6, 2, 4, 10, 1, 15, 8, 6, 10, 1, 11, 14, 5, 13, 16, 13, 9, 14, 7, 6, 14, 5, 2, 13, 11, 10, 14, 9, 7, 12, 3, 7, 7, 10, 14, 2, 2, 6, 9, 15, 10, 8, 14, 16, 5, 7, 2, 5, 9, 8, 9, 11, 16, 16, 13, 14, 13, 7, 15, 5, 13, 12, 8, 2, 6, 4, 13, 6, 16, 14, 10, 15, 4, 15, 5, 1, 15, 1, 2, 7, 2, 6, 2, 13, 3, 7, 1, 12, 5, 15, 5, 7, 4, 5, 4, 6, 16, 10, 7, 2, 5, 2, 14, 3, 14, 15, 6, 9, 9, 7, 15, 8, 3, 11, 14, 8, 10, 9, 11, 14, 13, 11, 15, 9, 7, 4, 16, 15, 6, 8, 2, 13, 6, 10, 15, 2, 13, 5, 9, 15, 14, 8, 10, 6, 5, 6, 9, 14, 15, 12, 15, 12, 3, 4, 13, 16, 15, 12, 11, 16, 4, 14, 7, 4, 15, 5, 16, 9, 8, 13, 8, 15, 16, 2, 5, 16, 9, 10, 11, 7, 3, 14, 11, 11, 15, 3, 12, 16, 10, 11, 6, 15, 10, 9, 1, 13, 3, 4, 15, 10, 2, 13, 14, 12, 10, 14, 4, 4, 14, 3, 15, 14, 12, 15, 13, 5, 2, 16, 6, 13, 5, 11, 8, 3, 4, 6, 7, 2, 15, 13, 11, 15, 2, 12, 15, 4, 1, 8, 13, 16, 1, 10, 4, 7, 16, 5, 7, 7, 7, 1, 1, 1, 10, 16, 6, 7, 9, 9, 12, 2, 10, 4, 6, 7, 14, 8, 7, 11, 10, 7, 12, 13, 3, 2, 6, 2, 5, 15, 2, 15, 5, 4, 10, 9, 9, 5, 7, 6, 1, 9]\n"
          ],
          "name": "stdout"
        }
      ]
    },
    {
      "cell_type": "code",
      "metadata": {
        "id": "3HOaJIX7oTwJ",
        "outputId": "e2ddd51e-19c6-40ae-cb58-a86d0ad4e553",
        "colab": {
          "base_uri": "https://localhost:8080/",
          "height": 308
        }
      },
      "source": [
        "from collections import Counter\n",
        "t = Counter(total_result)\n",
        "t.most_common()"
      ],
      "execution_count": null,
      "outputs": [
        {
          "output_type": "execute_result",
          "data": {
            "text/plain": [
              "[(12, 139),\n",
              " (3, 133),\n",
              " (15, 133),\n",
              " (14, 133),\n",
              " (1, 132),\n",
              " (5, 130),\n",
              " (4, 128),\n",
              " (9, 128),\n",
              " (2, 128),\n",
              " (13, 128),\n",
              " (10, 126),\n",
              " (8, 123),\n",
              " (6, 121),\n",
              " (7, 117),\n",
              " (16, 114),\n",
              " (11, 87)]"
            ]
          },
          "metadata": {
            "tags": []
          },
          "execution_count": 7
        }
      ]
    },
    {
      "cell_type": "markdown",
      "metadata": {
        "id": "mxl2-j1zmhAr"
      },
      "source": [
        "# Binary Search\n",
        "\n",
        "Write a function that takes in a sorted array of integers as well as a target integer. The function should use the Binary Search algorithm to determine if the target integer is contained in the array and should return its index if it is, otherwise -1.\n",
        "\n",
        "<**Sample Input 1**>\n",
        "```\n",
        "array = [0, 1, 21, 33, 45, 45, 61, 71, 72, 73]\n",
        "target = 33\n",
        "```\n",
        "<**Sample Output 1**>\n",
        "```\n",
        "3\n",
        "```"
      ]
    },
    {
      "cell_type": "code",
      "metadata": {
        "id": "fk8F70ZDkPuq",
        "outputId": "2638ad66-6b51-41a1-a6eb-f16e8261ff33",
        "colab": {
          "base_uri": "https://localhost:8080/",
          "height": 35
        }
      },
      "source": [
        "# Space : O(log(n))\n",
        "# Time : O(1)\n",
        "\n",
        "def binarySearch(array, target):\n",
        "  left = 0\n",
        "  right = len(array)-1\n",
        "\n",
        "  # don't forget the equal sign\n",
        "  while left <= right:\n",
        "    mid = left + (right - left) // 2\n",
        "\n",
        "    if target == array[mid]:\n",
        "      return mid\n",
        "    elif target < array[mid]:\n",
        "      right = mid-1\n",
        "    else:\n",
        "      left = mid+1\n",
        "  return -1\n",
        "\n",
        "array = [0, 1, 21, 33, 45, 45, 61, 71, 72, 73]\n",
        "target = 33\n",
        "print(binarySearch(array, target))"
      ],
      "execution_count": null,
      "outputs": [
        {
          "output_type": "stream",
          "text": [
            "3\n"
          ],
          "name": "stdout"
        }
      ]
    },
    {
      "cell_type": "code",
      "metadata": {
        "id": "taAgL06Umna4",
        "outputId": "92e6cd40-5b29-4591-85ae-75fb7fdd9eb1",
        "colab": {
          "base_uri": "https://localhost:8080/",
          "height": 35
        }
      },
      "source": [
        "# Space : O(log(n))\n",
        "# Time : O(log(n))\n",
        "\n",
        "def binarySearch(array, target):\n",
        "  return binarySearchHelper(array, target, 0, len(array)-1)\n",
        "\n",
        "def binarySearchHelper(array, target, start, end):\n",
        "  if start > end:\n",
        "      return -1\n",
        "  mid = start + (end-start)//2\n",
        "  middle = array[mid]\n",
        "  if target == middle:\n",
        "    return mid\n",
        "  elif target < middle:\n",
        "    # make sure you put 'return' in front of the recursive call\n",
        "    return  binarySearchHelper(array, target, start, mid-1)\n",
        "  else:\n",
        "    return binarySearchHelper(array, target, mid+1, end)\n",
        "\n",
        "array = [0, 1, 21, 33, 45, 45, 61, 71, 72, 73]\n",
        "target = 33\n",
        "print(binarySearch(array, target))"
      ],
      "execution_count": null,
      "outputs": [
        {
          "output_type": "stream",
          "text": [
            "3\n"
          ],
          "name": "stdout"
        }
      ]
    },
    {
      "cell_type": "markdown",
      "metadata": {
        "id": "8W78T07vTjSv"
      },
      "source": [
        "# String Functions"
      ]
    },
    {
      "cell_type": "code",
      "metadata": {
        "id": "6nqEmU4Gn943",
        "outputId": "42cd01f4-7250-43e2-a5b9-5251824904ae",
        "colab": {
          "base_uri": "https://localhost:8080/",
          "height": 316
        }
      },
      "source": [
        "# .lower() : input은 string / return은 the string with all lowercase characters.\n",
        "print('1. This SHOULD be ALL lowercase Letters'.lower())\n",
        "# .upper() input은 string / return은 the string with all uppercase characters.\n",
        "print('2. This SHOULD be ALL uppercase Letters'.upper())\n",
        "# .title() returns the string in title case, which means the first letter of each word is capitalized.\n",
        "print('3. This SHOULD be ALL titlecase Letters'.title())\n",
        "# .split(delimiter) is performed on a string (taking one argument), and returns *a list* of substrings found between the given argument.\n",
        "print('4. This SHOULD be ALL separated Letters'.split(' '))\n",
        "# \t\\n : Newline / \\t Horizontal Tab\n",
        "print('5. This SHOULD be ALL Letters \\n this is new line \\t horizontal tab')\n",
        "# 'delimiter'.join(list_you_want_to_join) : it joins a list of strings together with a given delimiter.\n",
        "#  .join() : essentially the opposite of .split(). You can see this by different positions of delimiters and arguments.\n",
        "strings = ['6. this ', 'will ', 'be ', 'joined ', 'together.']\n",
        "print(''.join(strings))\n",
        "# .strip() : Stripping a string removes all whitespace characters from the beginning and end.\n",
        "string = \"::::::::    7. This will delete :s and whitespaces       :::::::::::\"\n",
        "print(string.strip(':'))\n",
        "print(string.strip(':').strip())\n",
        "# string_name.replace(character_being_replaced, new_character) : \n",
        "# 'replace' takes two arguments and replaces all instances of the first argument in a string with the second argument\n",
        "string = \\\n",
        "\"\"\"\n",
        "8. \n",
        "Nathan Pinchback Tomer,\n",
        "who adopted the name Jean Tomer\n",
        "early in his literary career\n",
        "\"\"\"\n",
        "print(string.replace(\"Tomer\", \"Toomer\"))\n",
        "# .find() takes a string as an argument and searching the string's index. count할 때 각각 char을 기준으로 센다.\n",
        "string1 = 'smooth'\n",
        "print(string1.find('t'))\n",
        "string2 = \"The very earth will disown you\"\n",
        "print(string2.find('earth'))\n",
        "# .format() takes variables as an argument and includes them in the string that it is run on.\n",
        "# \t\"My favorite song is {} by {}.\".format(song, artist)"
      ],
      "execution_count": null,
      "outputs": [
        {
          "output_type": "stream",
          "text": [
            "1. this should be all lowercase letters\n",
            "2. THIS SHOULD BE ALL UPPERCASE LETTERS\n",
            "3. This Should Be All Titlecase Letters\n",
            "['4.', 'This', 'SHOULD', 'be', 'ALL', 'separated', 'Letters']\n",
            "5. This SHOULD be ALL Letters \n",
            " this is new line \t horizontal tab\n",
            "6. this will be joined together.\n",
            "    7. This will delete :s and whitespaces       \n",
            "7. This will delete :s and whitespaces\n",
            "\n",
            "8. \n",
            "Nathan Pinchback Toomer,\n",
            "who adopted the name Jean Toomer\n",
            "early in his literary career\n",
            "\n",
            "4\n",
            "9\n"
          ],
          "name": "stdout"
        }
      ]
    },
    {
      "cell_type": "markdown",
      "metadata": {
        "id": "38voTgJmz84n"
      },
      "source": [
        "# Modules"
      ]
    },
    {
      "cell_type": "code",
      "metadata": {
        "id": "Xg9efW1qz1Tf",
        "outputId": "461daf6e-440a-4d0a-a1fa-0b2f1bd76e58",
        "colab": {
          "base_uri": "https://localhost:8080/",
          "height": 52
        }
      },
      "source": [
        "# DATETIME\n",
        "from datetime import datetime\n",
        "current_time = datetime.now()\n",
        "print('1. time is: ')\n",
        "print(current_time)"
      ],
      "execution_count": null,
      "outputs": [
        {
          "output_type": "stream",
          "text": [
            "1. time is: \n",
            "2020-08-20 23:22:02.272833\n"
          ],
          "name": "stdout"
        }
      ]
    },
    {
      "cell_type": "code",
      "metadata": {
        "id": "JZcDxGtQLdCk",
        "outputId": "f78ca1cc-abd7-412b-958d-74e3f1597b04",
        "colab": {
          "base_uri": "https://localhost:8080/",
          "height": 90
        }
      },
      "source": [
        "# RANDOM\n",
        "import random\n",
        "# Create random_list below:\n",
        "random_list = [random.randint(1,  101) for i in range(101)]\n",
        "print(random_list)\n",
        "# Create randomer_number below:\n",
        "randomer_number = random.choice(random_list)\n",
        "# Print randomer_number below:\n",
        "print('2. random number is:')\n",
        "print(randomer_number)"
      ],
      "execution_count": null,
      "outputs": [
        {
          "output_type": "stream",
          "text": [
            "[42, 86, 12, 100, 12, 28, 101, 22, 80, 93, 64, 1, 75, 100, 93, 7, 11, 64, 66, 100, 67, 82, 95, 21, 90, 45, 65, 21, 80, 8, 68, 40, 96, 17, 36, 94, 74, 26, 82, 91, 31, 12, 1, 50, 25, 97, 24, 1, 78, 38, 15, 84, 41, 87, 31, 72, 2, 73, 4, 40, 83, 13, 41, 54, 55, 46, 33, 26, 28, 59, 83, 1, 91, 64, 75, 94, 56, 12, 23, 38, 91, 32, 23, 88, 51, 36, 6, 49, 41, 92, 18, 64, 24, 42, 93, 9, 83, 9, 4, 35, 99]\n",
            "2. random number is:\n",
            "96\n"
          ],
          "name": "stdout"
        }
      ]
    },
    {
      "cell_type": "code",
      "metadata": {
        "id": "eKdvUG8ALfrE",
        "outputId": "b0286f95-92a0-47ba-b433-c92f1ea502e2",
        "colab": {
          "base_uri": "https://localhost:8080/",
          "height": 87
        }
      },
      "source": [
        "# DECIMAL\n",
        "cost_of_gum = 0.10\n",
        "cost_of_gumdrop = 0.35\n",
        "cost_of_transaction = cost_of_gum + cost_of_gumdrop\n",
        "print('you\\'ll see rounding errors caused by Python’s built-in floating-point arithmetic: ')\n",
        "print(cost_of_transaction)\n",
        "\n",
        "from decimal import Decimal\n",
        "\n",
        "cost_of_gum = Decimal('0.10')\n",
        "cost_of_gumdrop = Decimal('0.35')\n",
        "cost_of_transaction = cost_of_gum + cost_of_gumdrop\n",
        "print('with the Decimal module, you can fix the weird formatting:')\n",
        "print(cost_of_transaction)"
      ],
      "execution_count": null,
      "outputs": [
        {
          "output_type": "stream",
          "text": [
            "you'll see rounding errors caused by Python’s built-in floating-point arithmetic: \n",
            "0.44999999999999996\n",
            "with the Decimal module, you can fix the weird formatting:\n",
            "0.45\n"
          ],
          "name": "stdout"
        }
      ]
    },
    {
      "cell_type": "markdown",
      "metadata": {
        "id": "y-tTevlVQxRQ"
      },
      "source": [
        "# Dictionary\n",
        "* A list or a dictionary can be **a value** of an item in a dictionary, but we *cannot* use these data types as **keys** of the dictionary. Will result in TypeError.\n",
        "* Update method: used when adding multiple key:value pairs to a dictionary at once.\n",
        "* zip() combines two lists into a zipped list of pairs. This list comprehension"
      ]
    },
    {
      "cell_type": "code",
      "metadata": {
        "id": "MRIsfS7ePx1l",
        "outputId": "84e1e409-a3d4-484c-816d-5f48de1d2aaa",
        "colab": {
          "base_uri": "https://localhost:8080/",
          "height": 52
        }
      },
      "source": [
        "sensors =  {\"living room\": 21, \"kitchen\": 23, \"bedroom\": 20}\n",
        "# UPDATE method\n",
        "sensors.update({\"pantry\": 22, \"guest room\": 25, \"patio\": 34})\n",
        "print(sensors)\n",
        "\n",
        "# Zip list comprehension\n",
        "drinks = [\"espresso\", \"chai\", \"decaf\", \"drip\"]\n",
        "caffeine = [64, 40, 0, 120]\n",
        "drinks_to_caffeine = {key: value for key, value in zip(drinks, caffeine)}\n",
        "print(drinks_to_caffeine)"
      ],
      "execution_count": null,
      "outputs": [
        {
          "output_type": "stream",
          "text": [
            "{'living room': 21, 'kitchen': 23, 'bedroom': 20, 'pantry': 22, 'guest room': 25, 'patio': 34}\n",
            "{'espresso': 64, 'chai': 40, 'decaf': 0, 'drip': 120}\n"
          ],
          "name": "stdout"
        }
      ]
    },
    {
      "cell_type": "code",
      "metadata": {
        "id": "cKsMDAnQPx7b"
      },
      "source": [
        ""
      ],
      "execution_count": null,
      "outputs": []
    },
    {
      "cell_type": "code",
      "metadata": {
        "id": "1tglZdc1Px4c"
      },
      "source": [
        ""
      ],
      "execution_count": null,
      "outputs": []
    },
    {
      "cell_type": "code",
      "metadata": {
        "id": "xDTq9qg2bOuO",
        "outputId": "9ebcf960-0093-4b36-e1b9-8c58cd2c1812",
        "colab": {
          "base_uri": "https://localhost:8080/",
          "height": 72
        }
      },
      "source": [
        "toppings = ['pepperoni', 'pineapple', 'cheese', 'sausage', 'olives', 'anchovies', 'mushrooms']\n",
        "prices = [2, 6, 1, 3, 2, 7, 2]\n",
        "\n",
        "# the length of a list\n",
        "num_pizzas = len(toppings)\n",
        "\n",
        "print ('We sell ' + str(num_pizzas) + ' different kinds of pizza!')\n",
        "\n",
        "# Use zip to combine the two lists into a list called pizzas that has the structure\n",
        "pizzas = list(zip(prices, toppings))\n",
        "print(pizzas)\n",
        "\n",
        "# You can sort a list from low to high by using .sort()\n",
        "pizzas.sort()\n",
        "\n",
        "cheapest_pizza = pizzas[0]\n",
        "priciest_pizza = pizzas[-1]\n",
        "three_cheapest = pizzas[:3]\n",
        "print (three_cheapest)\n",
        "\n",
        "# You can use .count to find the number of occurrences of a value in a list:\n",
        "num_two_dollar_slices = prices.count(2)\n",
        "\n",
        "\n",
        "# The function should add the last two elements of lst together and append the result to lst.\n",
        "# It should do this process three times and then return lst.\n",
        "def append_sum(lst):\n",
        "  i = 0\n",
        "  while i < 3:\n",
        "    lst.append(lst[-1] + lst[-2])\n",
        "    i += 1\n",
        "  return lst \n",
        "\n",
        "#Uncomment the line below when your function is done\n",
        "print(append_sum([1, 1, 2]))"
      ],
      "execution_count": null,
      "outputs": [
        {
          "output_type": "stream",
          "text": [
            "We sell 7 different kinds of pizza!\n",
            "[(2, 'pepperoni'), (6, 'pineapple'), (1, 'cheese'), (3, 'sausage'), (2, 'olives'), (7, 'anchovies'), (2, 'mushrooms')]\n",
            "[(1, 'cheese'), (2, 'mushrooms'), (2, 'olives')]\n"
          ],
          "name": "stdout"
        }
      ]
    },
    {
      "cell_type": "code",
      "metadata": {
        "id": "_5HmhZCP-L-u"
      },
      "source": [
        "/*  sort() vs. sorted().\n",
        "After being passed to sorted(), the vegetables list remains unchanged.\n",
        "the sort() function is called on it, the list is updated.\n",
        "*/\n",
        "vegetables = ['squash', 'pea', 'carrot', 'potato']\n",
        "new_list = sorted(vegetables)\n",
        "# new_list = ['carrot', 'pea', 'potato', 'squash']\n",
        "print(new_list)\n",
        "\n",
        "# vegetables = ['squash', 'pea', 'carrot', 'potato']\n",
        "print(vegetables)\n",
        "\n",
        "vegetables.sort()\n",
        "# vegetables = ['carrot', 'pea', 'potato', 'squash']\n",
        "print(vegetables)"
      ],
      "execution_count": null,
      "outputs": []
    },
    {
      "cell_type": "code",
      "metadata": {
        "id": "8qc_x8pPmxVS",
        "outputId": "d7a6f954-34f0-4faf-a590-41228a7e133f",
        "colab": {
          "base_uri": "https://localhost:8080/",
          "height": 52
        }
      },
      "source": [
        "# List (테크보이 워니)\n",
        "x = [4, 2, 3, 1]\n",
        "y = [\"hello\", \"there\"]\n",
        "# Find where a specific value is at\n",
        "print(x.index(3))\n",
        "# Check whether a certain value exists in a list\n",
        "print(\"hello\" in y)"
      ],
      "execution_count": null,
      "outputs": [
        {
          "output_type": "stream",
          "text": [
            "2\n",
            "True\n"
          ],
          "name": "stdout"
        }
      ]
    },
    {
      "cell_type": "code",
      "metadata": {
        "id": "_nVRzgFtm4gb"
      },
      "source": [
        "#%%\n",
        "# Tuple : 리스트와 다른점은, tuple은 안에 애들 못바꿈\n",
        "x = (1, 2, 3)\n",
        "y = ('a', 'b', 'c')\n",
        "z = (1, \"hello\", \"there\")\n",
        "\n",
        "print(x+y)\n",
        "# 다음 코드는 에러를 만듬\n",
        "# x[0] = 10\n"
      ],
      "execution_count": null,
      "outputs": []
    },
    {
      "cell_type": "code",
      "metadata": {
        "id": "LZ9c8p8LnAGC"
      },
      "source": [
        "#%%\n",
        "# 딕셔너리\n",
        "x= {\n",
        "    0:\"진오\",\n",
        "    \"age\":30\n",
        "}\n",
        "print(x[0])\n",
        "print(x[\"age\"])\n",
        "print(x.keys())\n",
        "print(x.values())\n",
        "print(\"------------절취선----------\")\n",
        "for key in x:\n",
        "    print(\"키: \" + str(key))\n",
        "    print(\"벨류: \" + str(x[key]))\n",
        "print(\"------------절취선----------\")\n",
        "# 딕셔너리는 mutable하다.\n",
        "x[0] = \"jino\"\n",
        "# 새로운키 삽입도 가능\n",
        "x[\"school\"] = \"columbia\"\n",
        "print(x)\n"
      ],
      "execution_count": null,
      "outputs": []
    },
    {
      "cell_type": "code",
      "metadata": {
        "id": "5xPfFXurnCH4",
        "outputId": "8a70e392-2e28-483b-a092-3d04b897e4f7",
        "colab": {
          "base_uri": "https://localhost:8080/"
        }
      },
      "source": [
        "#%% \n",
        "# create a class (테크보이 워니)\n",
        "class Person:\n",
        "    def __init__(self, name, age):\n",
        "        self.name = name\n",
        "        self.age = age\n",
        "\n",
        "    def say_hello(self, to_name):\n",
        "        print(\"안녕 너는 \" + to_name + \"구나. 나는 \" + self.name)\n",
        "\n",
        "    def introduce(self):\n",
        "        print(\"안녕 나는 \" + self.name + \"야 나는 \" + str(self.age) + \"살이야.\")\n",
        "\n",
        "jino = Person(\"진오\", 31)\n",
        "jennie = Person(\"제니\", 30)\n",
        "jino.say_hello(\"워니\")\n",
        "jennie.introduce()\n",
        "\n",
        "# Inheritance (테크보이 워니)\n",
        "class Police(Person):\n",
        "    def arrest (self, to_arrest):\n",
        "        print (\"넌 체포됐다, \" + to_arrest)\n",
        "\n",
        "class Programmer(Person):\n",
        "    def program (self, to_program):\n",
        "        print (\"다음엔 뭘 만들지? 아 이걸 만들어야겠다: \" + to_program)\n",
        "\n",
        "jino = Person(\"진오\", 31)\n",
        "jennie = Police (\"제니\", 21)\n",
        "wonie = Programmer (\"워니\", 30)\n",
        "\n",
        "jennie.introduce()\n"
      ],
      "execution_count": 1,
      "outputs": [
        {
          "output_type": "stream",
          "text": [
            "안녕 너는 워니구나. 나는 진오\n",
            "안녕 나는 제니야 나는 30살이야.\n",
            "안녕 나는 제니야 나는 21살이야.\n"
          ],
          "name": "stdout"
        }
      ]
    },
    {
      "cell_type": "code",
      "metadata": {
        "id": "N52cGDodnFaD"
      },
      "source": [
        "# %%\n",
        "def caesarCipherEncryptor(string, key):\n",
        "\t\n",
        "\tfor w in string:\n",
        "\t\tw = chr(ord(w)+key%26)\n",
        "\t\n",
        "\treturn \"\".join(string)\n",
        "\n",
        "print(caesarCipherEncryptor('cde', 3))\n",
        "print(chr(ord('e')+27%26))\n",
        "\n",
        "# %%\n",
        "# board = [[' ',' ',' '] for i in range(3)]\n",
        "# print(board)\n",
        "\n",
        "# %%\n",
        "car = {\n",
        "  \"brand\": \"Ford\",\n",
        "  \"model\": \"Mustang\",\n",
        "  \"year\": 1964\n",
        "}\n",
        "\n",
        "x = car.keys()\n",
        "x"
      ],
      "execution_count": null,
      "outputs": []
    },
    {
      "cell_type": "markdown",
      "metadata": {
        "id": "kftRUfA_CXGc"
      },
      "source": [
        "# BST\n",
        "## BST Construction"
      ]
    },
    {
      "cell_type": "markdown",
      "metadata": {
        "id": "YjEZ36UgClPl"
      },
      "source": [
        ""
      ]
    },
    {
      "cell_type": "markdown",
      "metadata": {
        "id": "eo6bDhiWCpRE"
      },
      "source": [
        "## BST Traversal"
      ]
    },
    {
      "cell_type": "code",
      "metadata": {
        "id": "1NGA9xZrCrUS"
      },
      "source": [
        "# the reason why this approach takes O(N) space is that we're using an array. \n",
        "# Otherwise, it'd be O(d) : just printing out elements only takes O(1), and the number\n",
        "# of call stacks would be the depth of BST O(d). Hence, O(d)\n",
        "\n",
        "def inOrderTraverse(tree, array):\n",
        "    if tree is not None:\n",
        "\t\tinOrderTraverse(tree.left, array)\n",
        "\t\tarray.append(tree.value)\n",
        "\t\tinOrderTraverse(tree.right, array)\n",
        "\treturn array\n",
        "\n",
        "def preOrderTraverse(tree, array):\n",
        "    if tree is not None:\n",
        "\t\tarray.append(tree.value)\n",
        "\t\tpreOrderTraverse(tree.left, array)\n",
        "\t\tpreOrderTraverse(tree.right, array)\n",
        "\treturn array\n",
        "\n",
        "def postOrderTraverse(tree, array):\n",
        "    if tree is not None:\n",
        "\t\tpostOrderTraverse(tree.left, array)\n",
        "\t\tpostOrderTraverse(tree.right, array)\n",
        "\t\tarray.append(tree.value)\n",
        "\treturn array\n"
      ],
      "execution_count": null,
      "outputs": []
    },
    {
      "cell_type": "markdown",
      "metadata": {
        "id": "rDNn-90u2CKR"
      },
      "source": [
        "# List\n"
      ]
    },
    {
      "cell_type": "code",
      "metadata": {
        "id": "Za0u97ke2K2b",
        "outputId": "399e7746-d662-4ecb-933f-f5b735f2eb89",
        "colab": {
          "base_uri": "https://localhost:8080/"
        }
      },
      "source": [
        "array = [1, 3, 6, 7]\n",
        "array[0], array[1] = array[1], array[0]\n",
        "# the following copies the reference to the array\n",
        "current = array \n",
        "# the following copies the current elements in the array\n",
        "current1 = array[:]\n",
        "array[1], array[0] = array[0], array[1]\n",
        "\n",
        "print(current)\n",
        "print(current1)\n"
      ],
      "execution_count": 2,
      "outputs": [
        {
          "output_type": "stream",
          "text": [
            "[1, 3, 6, 7]\n",
            "[3, 1, 6, 7]\n"
          ],
          "name": "stdout"
        }
      ]
    }
  ]
}